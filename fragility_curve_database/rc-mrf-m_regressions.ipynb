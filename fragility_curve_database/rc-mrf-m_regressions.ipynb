{
 "cells": [
  {
   "cell_type": "code",
   "execution_count": 17,
   "metadata": {},
   "outputs": [],
   "source": [
    "# from IPython import get_ipython\n",
    "# get_ipython().magic('reset -sf')\n",
    "\n",
    "import numpy as np\n",
    "import pandas as pd\n",
    "import scipy.stats as ss\n",
    "import matplotlib.pyplot as plt\n",
    "\n",
    "from pathlib import Path\n",
    "from scipy.stats import norm\n",
    "from matplotlib import gridspec\n",
    "from scipy.optimize import curve_fit\n",
    "from matplotlib.font_manager import FontProperties as fp\n",
    "\n",
    "# %config InlineBackend.print_figure_kwargs = {'bbox_inches':None}"
   ]
  },
  {
   "cell_type": "code",
   "execution_count": 18,
   "metadata": {},
   "outputs": [],
   "source": [
    "# import the data\n",
    "df = pd.read_excel(\"fragility_curve_database_pga.xlsx\")\n",
    "\n",
    "rc_mrf_m = df[df[\"Author\"] == \"Martins et al.\"]\n",
    "rc_mrf_m2 = rc_mrf_m[rc_mrf_m.PGA_des > 0.5]\n",
    "\n",
    "x = rc_mrf_m2.PGA_des   # independent variable\n",
    "y = rc_mrf_m2.med_c_PGA   # dependent varaible\n",
    "ym = np.mean(y) \n"
   ]
  },
  {
   "cell_type": "code",
   "execution_count": 19,
   "metadata": {},
   "outputs": [],
   "source": [
    "# Constants and functions for plotting\n",
    "figure_folder = Path('C:/niccl/Documents/risiko-basierte-erdbebenkarte/Bearbeitung/figures')\n",
    "colours = {1:'k', 2:'b', 3:'r', 4:'g', 5:'darkorange', 6:'c',\n",
    "           7:'m', 8:'k', 9:'y', 10:'lawngreen'} \n",
    "\n",
    "axis_title_font = {'family': 'serif',\n",
    "                    'color':  'black',\n",
    "                    'weight': 'normal',\n",
    "                    'size': 10,\n",
    "                    }\n",
    "\n",
    "annotation_font = fp(family='serif', style='normal', size=9,\n",
    "                          weight='normal', stretch='normal')\n",
    "\n",
    "axis_ticklabel_font = fp(family='serif', style='normal', size=9,\n",
    "                          weight='normal', stretch='normal')\n",
    "\n",
    "legend_font = fp(family='serif', style='normal', size=9,\n",
    "                          weight='normal', stretch='normal')\n",
    "\n",
    "file_type = \"pdf\"\n",
    "\n",
    "# create a basic figure\n",
    "def basic_1x1_figure():\n",
    "    fig = plt.figure(figsize=(3.2, 3))\n",
    "    gs = gridspec.GridSpec(1, 1, width_ratios=[1],\n",
    "                       wspace=0.2, hspace=0.2, top=0.98, bottom=0.15, left=0.15, right=0.99)\n",
    "    ax = fig.add_subplot(gs[0,0])\n",
    "    return ax\n",
    "    \n",
    "# basic formating of the axes etc    \n",
    "def basic_1x1_format_and_save(ax, figure_name):\n",
    "    for label in ax.get_yticklabels() :\n",
    "        label.set_fontproperties(axis_ticklabel_font)\n",
    "    for label in ax.get_xticklabels() :\n",
    "        label.set_fontproperties(axis_ticklabel_font)\n",
    "\n",
    "    ax.legend(prop=legend_font)\n",
    "    ax.tick_params('both', direction='in', which='both', pad=6)\n",
    "    ax.set_xlim(0)\n",
    "\n",
    "    plt.savefig(figure_folder / figure_name, dpi=800)\n",
    "    plt.savefig(figure_folder / (figure_name + \".\" + file_type), dpi=800, format=file_type)\n",
    "    return"
   ]
  },
  {
   "cell_type": "code",
   "execution_count": 20,
   "metadata": {},
   "outputs": [],
   "source": [
    "# linear function for fitting\n",
    "def linear_fn(x, m, c):\n",
    "    return m*x + c\n",
    "    \n",
    "# residuals from fit\n",
    "def residuals(x, y, fn, params):\n",
    "    return y - fn(x, *params)\n",
    "    \n",
    "# SST - sum of squares total\n",
    "def sst(y_fit, y_mean):\n",
    "    return np.sum((y_fit - y_mean) ** 2)\n",
    "    \n",
    "# SSE - sum of squares due to error\n",
    "def sse(y_fit, y):\n",
    "    return np.sum((y_fit - y) ** 2)\n",
    "    \n",
    "# SSR - sum of squares due to regression\n",
    "def ssr(y, y_mean):\n",
    "    return np.sum((y - y_mean) ** 2)\n",
    "   \n",
    "# pgas for plotting best fit    \n",
    "PGAS = np.linspace(0.0, 5, num=51)\n"
   ]
  },
  {
   "cell_type": "code",
   "execution_count": 21,
   "metadata": {},
   "outputs": [
    {
     "name": "stdout",
     "output_type": "stream",
     "text": [
      "[ 8.412075  20.576475  24.7805505 36.660951 ]\n"
     ]
    }
   ],
   "source": [
    "# mean values for each intensity level\n",
    "unique_pgas = np.unique(rc_mrf_m2.PGA_des)\n",
    "mean_capacities = np.array([np.mean(rc_mrf_m2[rc_mrf_m2.PGA_des == pga].med_c_PGA) for pga in unique_pgas])\n",
    "print(mean_capacities)"
   ]
  },
  {
   "cell_type": "code",
   "execution_count": 22,
   "metadata": {},
   "outputs": [
    {
     "data": {
      "text/plain": [
       "Text(0.5, 13.400000000000006, 'Design PGA [m/s²]')"
      ]
     },
     "execution_count": 22,
     "metadata": {},
     "output_type": "execute_result"
    },
    {
     "data": {
      "image/png": "[encoded data removed]",
      "text/plain": [
       "<Figure size 230.4x216 with 1 Axes>"
      ]
     },
     "metadata": {
      "needs_background": "light"
     },
     "output_type": "display_data"
    }
   ],
   "source": [
    "# Visualise the data\n",
    "ax = basic_1x1_figure()\n",
    "ax.plot(rc_mrf_m2.PGA_des, rc_mrf_m2.med_c_PGA, \".\", color=\"b\", label=\"RC-MRF-M2\")\n",
    "ax.plot(unique_pgas, mean_capacities, 's', color=\"r\", label='Mean of Capacities')\n",
    "basic_1x1_format_and_save(ax, \"RC-MRF-M2_data\")\n",
    "ax.set_ylabel('Median Collapse PGA [m/s²]', fontdict=axis_title_font, labelpad=6)\n",
    "ax.set_xlabel('Design PGA [m/s²]', fontdict=axis_title_font)"
   ]
  },
  {
   "cell_type": "code",
   "execution_count": 23,
   "metadata": {},
   "outputs": [
    {
     "name": "stdout",
     "output_type": "stream",
     "text": [
      "Ordinary Least-Squares:\n",
      "m_ols = 9.067350043748002\n",
      "c_ols = 0.3698370502286821\n",
      "sst_ols = 11477.514152849839\n",
      "sse_ols = 3565.286499704929\n",
      "ssr_ols = 7912.227729494487\n",
      "ser_ols = 10.071683922999227\n",
      "r2 = 0.689367710444541\n",
      "sigma_r = 6.6757831934771215\n",
      "\n"
     ]
    }
   ],
   "source": [
    "# Ordinary Least Squares Regression (OLS)\n",
    "params, cov = curve_fit(linear_fn, x, y)\n",
    "\n",
    "m_ols = params[0]\n",
    "c_ols = params[1]\n",
    "\n",
    "yf_ols = linear_fn(x, *params) \n",
    "\n",
    "sst_ols = sst(y, ym)\n",
    "sse_ols = sse(y, yf_ols)\n",
    "ssr_ols = ssr(yf_ols, ym)\n",
    "ser_ols = np.sqrt(ssr_ols / (len(rc_mrf_m2.med_c_PGA) - 2)) # standard error of regression\n",
    "\n",
    "r2 = 1 - (sse_ols / sst_ols)\n",
    "\n",
    "r = residuals(x, y, linear_fn, params)\n",
    "sigma_r = np.std(r)\n",
    "error_sum = np.sum(r)\n",
    "\n",
    "print(f\"Ordinary Least-Squares:\\n\"\n",
    "      f\"{m_ols = }\\n\"\n",
    "      f\"{c_ols = }\\n\"\n",
    "      f\"{sst_ols = }\\n\"\n",
    "      f\"{sse_ols = }\\n\"\n",
    "      f\"{ssr_ols = }\\n\"\n",
    "      f\"{ser_ols = }\\n\"\n",
    "      f\"{r2 = }\\n\"\n",
    "      f\"{sigma_r = }\\n\")"
   ]
  },
  {
   "cell_type": "code",
   "execution_count": 24,
   "metadata": {},
   "outputs": [
    {
     "name": "stdout",
     "output_type": "stream",
     "text": [
      "Regression through Origin:\n",
      "m_rto = 9.193016666666667\n",
      "sse_rto = 3567.1102251258467\n",
      "error_sum_rto = 4.931160000000157\n",
      "sigma_r_rto = 6.677205881662841\n",
      "\n"
     ]
    }
   ],
   "source": [
    "# Regression through the origin (RTO)\n",
    "m_rto = np.sum(x * y) / np.sum(x ** 2)\n",
    "yf_rto = linear_fn(x, m_rto, 0)\n",
    "\n",
    "sse_rto = sse(y, yf_rto)\n",
    "\n",
    "r_rto = residuals(x, y, linear_fn, [m_rto, 0])\n",
    "error_sum_rto = np.sum(r_rto)\n",
    "sigma_r_rto = np.std(r_rto)\n",
    "\n",
    "print(f\"Regression through Origin:\\n\"\n",
    "      f\"{m_rto = }\\n\"\n",
    "      f\"{sse_rto = }\\n\"\n",
    "      f\"{error_sum_rto = }\\n\"\n",
    "      f\"{sigma_r_rto = }\\n\")"
   ]
  },
  {
   "cell_type": "code",
   "execution_count": 25,
   "metadata": {},
   "outputs": [
    {
     "data": {
      "text/plain": [
       "Text(0.5, 13.400000000000006, 'Desgin PGA, $a_{g,des}$ [m/s²]')"
      ]
     },
     "execution_count": 25,
     "metadata": {},
     "output_type": "execute_result"
    },
    {
     "data": {
      "image/png": "[encoded data removed]",
      "text/plain": [
       "<Figure size 230.4x216 with 1 Axes>"
      ]
     },
     "metadata": {
      "needs_background": "light"
     },
     "output_type": "display_data"
    }
   ],
   "source": [
    "# Plotting Regressions\n",
    "ax = basic_1x1_figure()\n",
    "ax.plot(rc_mrf_m2.PGA_des, rc_mrf_m2.med_c_PGA, \".\", color=\"b\", label=\"RC-MRF-M2\")\n",
    "ax.plot(PGAS, linear_fn(PGAS,m_ols, c_ols), \"-k\", label=\"OLS\")\n",
    "ax.plot(PGAS, linear_fn(PGAS,m_rto, 0), \"-.r\", label=\"RTO\")\n",
    "\n",
    "basic_1x1_format_and_save(ax, \"RC-MRF-M2_data\")\n",
    "ax.set_ylabel(r'Median Collapse PGA, $\\theta_{c}$, [m/s²]', fontdict=axis_title_font, labelpad=6)\n",
    "ax.set_xlabel(r'Desgin PGA, $a_{g,des}$ [m/s²]', fontdict=axis_title_font)"
   ]
  },
  {
   "cell_type": "code",
   "execution_count": 26,
   "metadata": {},
   "outputs": [
    {
     "name": "stdout",
     "output_type": "stream",
     "text": [
      "7.8426045\n",
      "0.8531045666910209\n"
     ]
    }
   ],
   "source": [
    "# calculating plateau capacity\n",
    "# plateau capacity is the mean of all the points <= 1 ms-2\n",
    "\n",
    "residual_cap = np.mean(rc_mrf_m[rc_mrf_m.PGA_des <= 1.0].med_c_PGA)\n",
    "pga_plateau = residual_cap / m_rto\n",
    "print(residual_cap)\n",
    "print(pga_plateau)"
   ]
  },
  {
   "cell_type": "code",
   "execution_count": 27,
   "metadata": {},
   "outputs": [
    {
     "data": {
      "image/png": "[encoded data removed]",
      "text/plain": [
       "<Figure size 230.4x216 with 1 Axes>"
      ]
     },
     "metadata": {
      "needs_background": "light"
     },
     "output_type": "display_data"
    }
   ],
   "source": [
    "# plotting the two fit options\n",
    "fit1_x = np.array([0, 5])\n",
    "fit1_y = linear_fn(fit1_x, m_rto, 0)\n",
    "\n",
    "fit2_x = np.array([0, pga_plateau, 5])\n",
    "fit2_y = np.array([residual_cap, residual_cap, 5 * m_rto])\n",
    "\n",
    "fit3_x = np.array([0, 5])\n",
    "fit3_y = linear_fn(fit3_x, 8.579825433023016, 1.864480706359418)\n",
    "\n",
    "ax = basic_1x1_figure()\n",
    "ax.plot(rc_mrf_m.PGA_des, rc_mrf_m.med_c_PGA, \".\", color=\"b\", label=\"RC-MRF-M\")\n",
    "ax.plot(fit1_x, fit1_y, \"-k\", label=r\"RTO\")\n",
    "ax.plot(fit2_x, fit2_y, \"-.r\", label=\"PW\")\n",
    "ax.plot(fit3_x, fit3_y, \":g\", label=\"OLS\")\n",
    "ax.set_xlim(0,5.5)\n",
    "\n",
    "ax.set_ylabel(r'Median Collapse PGA, $\\theta_{c}$, [m/s²]', fontdict=axis_title_font, labelpad=6)\n",
    "ax.set_xlabel(r'Design PGA, $a_{g,des}$ [m/s²]', fontdict=axis_title_font)\n",
    "basic_1x1_format_and_save(ax, \"Fig6_RC-MRF-M_piecewise\")\n"
   ]
  },
  {
   "cell_type": "code",
   "execution_count": 28,
   "metadata": {},
   "outputs": [
    {
     "name": "stdout",
     "output_type": "stream",
     "text": [
      "Dispersion of median values: 0.27797255088714107\n"
     ]
    },
    {
     "data": {
      "image/png": "[encoded data removed]",
      "text/plain": [
       "<Figure size 432x288 with 1 Axes>"
      ]
     },
     "metadata": {
      "needs_background": "light"
     },
     "output_type": "display_data"
    }
   ],
   "source": [
    "def dispersion(m, c, in_db):\n",
    "    # finds the dispersion of the RV around the mean (best fit line)\n",
    "    # Assumes lognormal and homoscedastic error\n",
    "    err = [np.log(m*row[\"PGA_des\"] + (c)) - np.log(row[\"med_c_PGA\"]) for idx, row in in_db.iterrows()]\n",
    "    n = len(err)\n",
    "    plt.figure()\n",
    "    plt.plot(in_db[\"PGA_des\"], err, \"o\", mec=\"k\")\n",
    "\n",
    "    err = np.array(err)\n",
    "    beta = np.sqrt((1 / (n-1)) * sum(err ** 2))\n",
    "    print(f\"Dispersion of median values: {beta}\")\n",
    "    \n",
    "    return beta\n",
    "    \n",
    "rc_mrf_m_beta_theta = dispersion(m_rto, 0, rc_mrf_m2)"
   ]
  }
 ],
 "metadata": {
  "kernelspec": {
   "display_name": "Python 3.10.1 ('my_venv': venv)",
   "language": "python",
   "name": "python3"
  },
  "language_info": {
   "codemirror_mode": {
    "name": "ipython",
    "version": 3
   },
   "file_extension": ".py",
   "mimetype": "text/x-python",
   "name": "python",
   "nbconvert_exporter": "python",
   "pygments_lexer": "ipython3",
   "version": "3.10.1"
  },
  "orig_nbformat": 4,
  "vscode": {
   "interpreter": {
    "hash": "74f4ddda2e74b73727018b669d7bcc517b44aa23c28407f859c9651cf3ee6aa2"
   }
  }
 },
 "nbformat": 4,
 "nbformat_minor": 2
}
